{
 "cells": [
  {
   "cell_type": "code",
   "execution_count": 2,
   "metadata": {},
   "outputs": [],
   "source": [
    "from sklearn.cluster import DBSCAN\n",
    "from sklearn.preprocessing import MinMaxScaler\n",
    "import matplotlib.pyplot as plt\n",
    "import numpy as np\n",
    "import pandas as pd"
   ]
  },
  {
   "cell_type": "code",
   "execution_count": 32,
   "metadata": {},
   "outputs": [
    {
     "name": "stderr",
     "output_type": "stream",
     "text": [
      "/home/azeddine/anaconda3/lib/python3.7/site-packages/pandas/core/series.py:853: RuntimeWarning: invalid value encountered in log\n",
      "  result = getattr(ufunc, method)(*inputs, **kwargs)\n"
     ]
    },
    {
     "data": {
      "text/html": [
       "<div>\n",
       "<style scoped>\n",
       "    .dataframe tbody tr th:only-of-type {\n",
       "        vertical-align: middle;\n",
       "    }\n",
       "\n",
       "    .dataframe tbody tr th {\n",
       "        vertical-align: top;\n",
       "    }\n",
       "\n",
       "    .dataframe thead th {\n",
       "        text-align: right;\n",
       "    }\n",
       "</style>\n",
       "<table border=\"1\" class=\"dataframe\">\n",
       "  <thead>\n",
       "    <tr style=\"text-align: right;\">\n",
       "      <th></th>\n",
       "      <th>child_mort</th>\n",
       "      <th>exports</th>\n",
       "      <th>health</th>\n",
       "      <th>imports</th>\n",
       "      <th>income</th>\n",
       "      <th>inflation</th>\n",
       "      <th>life_expec</th>\n",
       "      <th>total_fer</th>\n",
       "      <th>gdpp</th>\n",
       "    </tr>\n",
       "  </thead>\n",
       "  <tbody>\n",
       "    <tr>\n",
       "      <td>0</td>\n",
       "      <td>4.502029</td>\n",
       "      <td>2.302585</td>\n",
       "      <td>2.025513</td>\n",
       "      <td>3.804438</td>\n",
       "      <td>7.383989</td>\n",
       "      <td>2.244956</td>\n",
       "      <td>4.028917</td>\n",
       "      <td>1.761300</td>\n",
       "      <td>6.315358</td>\n",
       "    </tr>\n",
       "    <tr>\n",
       "      <td>1</td>\n",
       "      <td>2.809403</td>\n",
       "      <td>3.332205</td>\n",
       "      <td>1.879465</td>\n",
       "      <td>3.883624</td>\n",
       "      <td>9.203316</td>\n",
       "      <td>1.501853</td>\n",
       "      <td>4.334673</td>\n",
       "      <td>0.500775</td>\n",
       "      <td>8.316300</td>\n",
       "    </tr>\n",
       "    <tr>\n",
       "      <td>2</td>\n",
       "      <td>3.306887</td>\n",
       "      <td>3.648057</td>\n",
       "      <td>1.427916</td>\n",
       "      <td>3.446808</td>\n",
       "      <td>9.464983</td>\n",
       "      <td>2.778819</td>\n",
       "      <td>4.337291</td>\n",
       "      <td>1.061257</td>\n",
       "      <td>8.402904</td>\n",
       "    </tr>\n",
       "    <tr>\n",
       "      <td>3</td>\n",
       "      <td>4.779123</td>\n",
       "      <td>4.131961</td>\n",
       "      <td>1.047319</td>\n",
       "      <td>3.758872</td>\n",
       "      <td>8.682708</td>\n",
       "      <td>3.109061</td>\n",
       "      <td>4.096010</td>\n",
       "      <td>1.818077</td>\n",
       "      <td>8.169053</td>\n",
       "    </tr>\n",
       "    <tr>\n",
       "      <td>4</td>\n",
       "      <td>2.332144</td>\n",
       "      <td>3.817712</td>\n",
       "      <td>1.796747</td>\n",
       "      <td>4.075841</td>\n",
       "      <td>9.857444</td>\n",
       "      <td>0.364643</td>\n",
       "      <td>4.341205</td>\n",
       "      <td>0.756122</td>\n",
       "      <td>9.409191</td>\n",
       "    </tr>\n",
       "  </tbody>\n",
       "</table>\n",
       "</div>"
      ],
      "text/plain": [
       "   child_mort   exports    health   imports    income  inflation  life_expec  \\\n",
       "0    4.502029  2.302585  2.025513  3.804438  7.383989   2.244956    4.028917   \n",
       "1    2.809403  3.332205  1.879465  3.883624  9.203316   1.501853    4.334673   \n",
       "2    3.306887  3.648057  1.427916  3.446808  9.464983   2.778819    4.337291   \n",
       "3    4.779123  4.131961  1.047319  3.758872  8.682708   3.109061    4.096010   \n",
       "4    2.332144  3.817712  1.796747  4.075841  9.857444   0.364643    4.341205   \n",
       "\n",
       "   total_fer      gdpp  \n",
       "0   1.761300  6.315358  \n",
       "1   0.500775  8.316300  \n",
       "2   1.061257  8.402904  \n",
       "3   1.818077  8.169053  \n",
       "4   0.756122  9.409191  "
      ]
     },
     "execution_count": 32,
     "metadata": {},
     "output_type": "execute_result"
    }
   ],
   "source": [
    "df_original = pd.read_csv(\"./Country-data.csv\")\n",
    "df = df_original.copy()\n",
    "df = df.iloc[:, 1:]\n",
    "df = df.dropna()\n",
    "\n",
    "# Min-Max Scaling\n",
    "#scaler = MinMaxScaler()\n",
    "#df = scaler.fit_transform(df)\n",
    "\n",
    "# Applying the Log\n",
    "df = df.apply(lambda x: np.log(x))\n",
    "df = df.dropna()\n",
    "\n",
    "df.head()"
   ]
  },
  {
   "cell_type": "code",
   "execution_count": 36,
   "metadata": {},
   "outputs": [],
   "source": [
    "clustering = DBSCAN(eps=2, min_samples=3).fit(df)"
   ]
  },
  {
   "cell_type": "code",
   "execution_count": 37,
   "metadata": {},
   "outputs": [
    {
     "data": {
      "text/plain": [
       "array([ 0,  0,  0,  0,  0,  0,  0,  0,  0,  0,  0,  0,  0,  0,  0,  0,  0,\n",
       "        0,  0,  0,  0,  0,  0,  0,  0,  0,  0,  0,  0,  0,  0,  0,  0,  0,\n",
       "        0,  0,  0,  0,  0,  0,  0,  0,  0,  0,  0,  0,  0,  0,  0,  0,  0,\n",
       "        0,  0,  0,  0,  0,  0,  0,  0,  0,  0,  0,  0,  0,  0,  0,  0,  0,\n",
       "        0,  0,  0,  0,  0,  0,  0,  0,  0,  0,  0,  0,  0,  0,  0,  0,  0,\n",
       "        0,  0,  0,  0,  0,  0,  0,  0,  0,  0,  0,  0,  0,  0,  0,  0,  0,\n",
       "       -1,  0,  0,  0,  0,  0,  0,  0,  0,  0,  0,  0,  0,  0,  0,  0,  0,\n",
       "        0,  0,  0,  0,  0,  0,  0,  0,  0,  0,  0,  0,  0,  0,  0,  0,  0,\n",
       "        0,  0,  0,  0,  0, -1,  0,  0,  0,  0,  0,  0,  0,  0,  0,  0,  0,\n",
       "        0,  0,  0,  0,  0,  0])"
      ]
     },
     "execution_count": 37,
     "metadata": {},
     "output_type": "execute_result"
    }
   ],
   "source": [
    "clustering.labels_"
   ]
  },
  {
   "cell_type": "code",
   "execution_count": 38,
   "metadata": {},
   "outputs": [
    {
     "data": {
      "image/png": "[encoded data removed]",
      "text/plain": [
       "<Figure size 1080x720 with 1 Axes>"
      ]
     },
     "metadata": {
      "needs_background": "light"
     },
     "output_type": "display_data"
    }
   ],
   "source": [
    "colors = [\"cyan\", \"red\", \"yellow\", \"green\", \"blue\", \"purple\", \"pink\", \"olive\", \"orange\", \"red\", \"yellow\", \"green\", \"blue\", \"purple\", \"pink\", \"olive\", \"oragne\", \"cyan\"]\n",
    "df_values = df_original.values.tolist()\n",
    "\n",
    "plt.figure(figsize=(15, 10))\n",
    "for p, c in zip(df_values, clustering.labels_):\n",
    "    if c == -1:\n",
    "        color = \"gray\"\n",
    "    else:\n",
    "        color = colors[c]\n",
    "    plt.scatter(p[1], p[2], color=color)\n",
    "plt.ylabel(\"child_mort\")\n",
    "plt.xlabel(\"exports\")\n",
    "plt.show()"
   ]
  }
 ],
 "metadata": {
  "kernelspec": {
   "display_name": "Python 3",
   "language": "python",
   "name": "python3"
  },
  "language_info": {
   "codemirror_mode": {
    "name": "ipython",
    "version": 3
   },
   "file_extension": ".py",
   "mimetype": "text/x-python",
   "name": "python",
   "nbconvert_exporter": "python",
   "pygments_lexer": "ipython3",
   "version": "3.8.5"
  }
 },
 "nbformat": 4,
 "nbformat_minor": 4
}

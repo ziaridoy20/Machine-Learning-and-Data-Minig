{
 "cells": [
  {
   "cell_type": "code",
   "execution_count": 63,
   "metadata": {},
   "outputs": [],
   "source": [
    "################\n",
    "Name : Md Ziauddin Ridoy\n",
    "Matriculation : 220100676"
   ]
  },
  {
   "cell_type": "code",
   "execution_count": 64,
   "metadata": {},
   "outputs": [],
   "source": [
    "import pandas as pd\n",
    "import numpy as np\n",
    "from scipy import stats\n",
    "import seaborn as sn\n",
    "import matplotlib.pyplot as plt\n",
    "from numpy.linalg import eig"
   ]
  },
  {
   "cell_type": "code",
   "execution_count": 65,
   "metadata": {},
   "outputs": [
    {
     "name": "stdout",
     "output_type": "stream",
     "text": [
      "     sepal_length  sepal_width  petal_length  petal_width    species\n",
      "0             5.1          3.5           1.4          0.2     setosa\n",
      "1             4.9          3.0           1.4          0.2     setosa\n",
      "2             4.7          3.2           1.3          0.2     setosa\n",
      "3             4.6          3.1           1.5          0.2     setosa\n",
      "4             5.0          3.6           1.4          0.2     setosa\n",
      "..            ...          ...           ...          ...        ...\n",
      "145           6.7          3.0           5.2          2.3  virginica\n",
      "146           6.3          2.5           5.0          1.9  virginica\n",
      "147           6.5          3.0           5.2          2.0  virginica\n",
      "148           6.2          3.4           5.4          2.3  virginica\n",
      "149           5.9          3.0           5.1          1.8  virginica\n",
      "\n",
      "[150 rows x 5 columns]\n"
     ]
    }
   ],
   "source": [
    "import pandas as pd\n",
    "df = pd.read_csv(\"iris.csv\")\n",
    "print(df)"
   ]
  },
  {
   "cell_type": "code",
   "execution_count": 66,
   "metadata": {},
   "outputs": [],
   "source": [
    "iris_data = df[df.columns[0:4]]"
   ]
  },
  {
   "cell_type": "code",
   "execution_count": 67,
   "metadata": {},
   "outputs": [
    {
     "name": "stdout",
     "output_type": "stream",
     "text": [
      "0      5.1\n",
      "1      4.9\n",
      "2      4.7\n",
      "3      4.6\n",
      "4      5.0\n",
      "      ... \n",
      "145    6.7\n",
      "146    6.3\n",
      "147    6.5\n",
      "148    6.2\n",
      "149    5.9\n",
      "Name: sepal_length, Length: 150, dtype: float64\n",
      "0      3.5\n",
      "1      3.0\n",
      "2      3.2\n",
      "3      3.1\n",
      "4      3.6\n",
      "      ... \n",
      "145    3.0\n",
      "146    2.5\n",
      "147    3.0\n",
      "148    3.4\n",
      "149    3.0\n",
      "Name: sepal_width, Length: 150, dtype: float64\n"
     ]
    }
   ],
   "source": [
    "##df_small_1_col = df.iloc[0:1]\n",
    "df_small_1_col = df['sepal_length']\n",
    "print(df_small_1_col)\n",
    "\n",
    "\n",
    "##df_small_2_col = df.iloc[2]\n",
    "df_small_2_col = df['sepal_width']\n",
    "print(df_small_2_col)"
   ]
  },
  {
   "cell_type": "code",
   "execution_count": 68,
   "metadata": {},
   "outputs": [
    {
     "name": "stdout",
     "output_type": "stream",
     "text": [
      "     sepal_length  sepal_width  petal_length  petal_width\n",
      "0             5.1          3.5           1.4          0.2\n",
      "1             4.9          3.0           1.4          0.2\n",
      "2             4.7          3.2           1.3          0.2\n",
      "3             4.6          3.1           1.5          0.2\n",
      "4             5.0          3.6           1.4          0.2\n",
      "..            ...          ...           ...          ...\n",
      "145           6.7          3.0           5.2          2.3\n",
      "146           6.3          2.5           5.0          1.9\n",
      "147           6.5          3.0           5.2          2.0\n",
      "148           6.2          3.4           5.4          2.3\n",
      "149           5.9          3.0           5.1          1.8\n",
      "\n",
      "[150 rows x 4 columns]\n"
     ]
    }
   ],
   "source": [
    "print(iris_data)"
   ]
  },
  {
   "cell_type": "code",
   "execution_count": 69,
   "metadata": {},
   "outputs": [
    {
     "data": {
      "text/plain": [
       "-0.11756978413300201"
      ]
     },
     "execution_count": 69,
     "metadata": {},
     "output_type": "execute_result"
    }
   ],
   "source": [
    "##################correlation coefficient\n",
    "\n",
    "np.corrcoef(df_small_1_col,df_small_2_col)[0,1]\n"
   ]
  },
  {
   "cell_type": "code",
   "execution_count": 70,
   "metadata": {},
   "outputs": [
    {
     "data": {
      "text/plain": [
       "(-0.11756978413300205, 0.15189826071144918)"
      ]
     },
     "execution_count": 70,
     "metadata": {},
     "output_type": "execute_result"
    }
   ],
   "source": [
    "####To test if this correlation is statistically significant, we can\n",
    "####calculate the p-value associated with the Pearson correlation coefficient by using\n",
    "###the Scipy pearsonr() function, which returns the Pearson correlation coefficient along with the two-tailed p-value.\n",
    "\n",
    "from scipy.stats.stats import pearsonr\n",
    "\n",
    "pearsonr(df_small_1_col,df_small_2_col)\n"
   ]
  },
  {
   "cell_type": "code",
   "execution_count": 71,
   "metadata": {},
   "outputs": [
    {
     "name": "stdout",
     "output_type": "stream",
     "text": [
      "[[1.         0.99599866 0.99997391 ... 0.65347343 0.6339168  0.63315839]\n",
      " [0.99599866 1.         0.99660709 ... 0.70898277 0.68625679 0.68483481]\n",
      " [0.99997391 0.99660709 1.         ... 0.65755616 0.63763128 0.6368058 ]\n",
      " ...\n",
      " [0.65347343 0.70898277 0.65755616 ... 1.         0.99570813 0.99446012]\n",
      " [0.6339168  0.68625679 0.63763128 ... 0.99570813 1.         0.99991588]\n",
      " [0.63315839 0.68483481 0.6368058  ... 0.99446012 0.99991588 1.        ]]\n"
     ]
    }
   ],
   "source": [
    "# computing the corrlation matrix\n",
    "corMat = np.corrcoef(iris_data)\n",
    "\n",
    "print(corMat)"
   ]
  },
  {
   "cell_type": "code",
   "execution_count": 72,
   "metadata": {},
   "outputs": [
    {
     "data": {
      "image/png": "[encoded data removed]",
      "text/plain": [
       "<Figure size 432x288 with 2 Axes>"
      ]
     },
     "metadata": {
      "needs_background": "light"
     },
     "output_type": "display_data"
    }
   ],
   "source": [
    "# taking all rows but only 2 columns\n",
    "df_small_corr_123 = df.iloc[:,:2]\n",
    "\n",
    "correlation_mat = df_small_corr_123.corr()\n",
    "\n",
    "sn.heatmap(correlation_mat, annot = True)\n",
    "\n",
    "plt.show()"
   ]
  },
  {
   "cell_type": "code",
   "execution_count": 73,
   "metadata": {},
   "outputs": [
    {
     "name": "stdout",
     "output_type": "stream",
     "text": [
      "[[-9.00681170e-01  1.01900435e+00 -1.34022653e+00 -1.31544430e+00]\n",
      " [-1.14301691e+00 -1.31979479e-01 -1.34022653e+00 -1.31544430e+00]\n",
      " [-1.38535265e+00  3.28414053e-01 -1.39706395e+00 -1.31544430e+00]\n",
      " [-1.50652052e+00  9.82172869e-02 -1.28338910e+00 -1.31544430e+00]\n",
      " [-1.02184904e+00  1.24920112e+00 -1.34022653e+00 -1.31544430e+00]\n",
      " [-5.37177559e-01  1.93979142e+00 -1.16971425e+00 -1.05217993e+00]\n",
      " [-1.50652052e+00  7.88807586e-01 -1.34022653e+00 -1.18381211e+00]\n",
      " [-1.02184904e+00  7.88807586e-01 -1.28338910e+00 -1.31544430e+00]\n",
      " [-1.74885626e+00 -3.62176246e-01 -1.34022653e+00 -1.31544430e+00]\n",
      " [-1.14301691e+00  9.82172869e-02 -1.28338910e+00 -1.44707648e+00]\n",
      " [-5.37177559e-01  1.47939788e+00 -1.28338910e+00 -1.31544430e+00]\n",
      " [-1.26418478e+00  7.88807586e-01 -1.22655167e+00 -1.31544430e+00]\n",
      " [-1.26418478e+00 -1.31979479e-01 -1.34022653e+00 -1.44707648e+00]\n",
      " [-1.87002413e+00 -1.31979479e-01 -1.51073881e+00 -1.44707648e+00]\n",
      " [-5.25060772e-02  2.16998818e+00 -1.45390138e+00 -1.31544430e+00]\n",
      " [-1.73673948e-01  3.09077525e+00 -1.28338910e+00 -1.05217993e+00]\n",
      " [-5.37177559e-01  1.93979142e+00 -1.39706395e+00 -1.05217993e+00]\n",
      " [-9.00681170e-01  1.01900435e+00 -1.34022653e+00 -1.18381211e+00]\n",
      " [-1.73673948e-01  1.70959465e+00 -1.16971425e+00 -1.18381211e+00]\n",
      " [-9.00681170e-01  1.70959465e+00 -1.28338910e+00 -1.18381211e+00]\n",
      " [-5.37177559e-01  7.88807586e-01 -1.16971425e+00 -1.31544430e+00]\n",
      " [-9.00681170e-01  1.47939788e+00 -1.28338910e+00 -1.05217993e+00]\n",
      " [-1.50652052e+00  1.24920112e+00 -1.56757623e+00 -1.31544430e+00]\n",
      " [-9.00681170e-01  5.58610819e-01 -1.16971425e+00 -9.20547742e-01]\n",
      " [-1.26418478e+00  7.88807586e-01 -1.05603939e+00 -1.31544430e+00]\n",
      " [-1.02184904e+00 -1.31979479e-01 -1.22655167e+00 -1.31544430e+00]\n",
      " [-1.02184904e+00  7.88807586e-01 -1.22655167e+00 -1.05217993e+00]\n",
      " [-7.79513300e-01  1.01900435e+00 -1.28338910e+00 -1.31544430e+00]\n",
      " [-7.79513300e-01  7.88807586e-01 -1.34022653e+00 -1.31544430e+00]\n",
      " [-1.38535265e+00  3.28414053e-01 -1.22655167e+00 -1.31544430e+00]\n",
      " [-1.26418478e+00  9.82172869e-02 -1.22655167e+00 -1.31544430e+00]\n",
      " [-5.37177559e-01  7.88807586e-01 -1.28338910e+00 -1.05217993e+00]\n",
      " [-7.79513300e-01  2.40018495e+00 -1.28338910e+00 -1.44707648e+00]\n",
      " [-4.16009689e-01  2.63038172e+00 -1.34022653e+00 -1.31544430e+00]\n",
      " [-1.14301691e+00  9.82172869e-02 -1.28338910e+00 -1.31544430e+00]\n",
      " [-1.02184904e+00  3.28414053e-01 -1.45390138e+00 -1.31544430e+00]\n",
      " [-4.16009689e-01  1.01900435e+00 -1.39706395e+00 -1.31544430e+00]\n",
      " [-1.14301691e+00  1.24920112e+00 -1.34022653e+00 -1.44707648e+00]\n",
      " [-1.74885626e+00 -1.31979479e-01 -1.39706395e+00 -1.31544430e+00]\n",
      " [-9.00681170e-01  7.88807586e-01 -1.28338910e+00 -1.31544430e+00]\n",
      " [-1.02184904e+00  1.01900435e+00 -1.39706395e+00 -1.18381211e+00]\n",
      " [-1.62768839e+00 -1.74335684e+00 -1.39706395e+00 -1.18381211e+00]\n",
      " [-1.74885626e+00  3.28414053e-01 -1.39706395e+00 -1.31544430e+00]\n",
      " [-1.02184904e+00  1.01900435e+00 -1.22655167e+00 -7.88915558e-01]\n",
      " [-9.00681170e-01  1.70959465e+00 -1.05603939e+00 -1.05217993e+00]\n",
      " [-1.26418478e+00 -1.31979479e-01 -1.34022653e+00 -1.18381211e+00]\n",
      " [-9.00681170e-01  1.70959465e+00 -1.22655167e+00 -1.31544430e+00]\n",
      " [-1.50652052e+00  3.28414053e-01 -1.34022653e+00 -1.31544430e+00]\n",
      " [-6.58345429e-01  1.47939788e+00 -1.28338910e+00 -1.31544430e+00]\n",
      " [-1.02184904e+00  5.58610819e-01 -1.34022653e+00 -1.31544430e+00]\n",
      " [ 1.40150837e+00  3.28414053e-01  5.35408562e-01  2.64141916e-01]\n",
      " [ 6.74501145e-01  3.28414053e-01  4.21733708e-01  3.95774101e-01]\n",
      " [ 1.28034050e+00  9.82172869e-02  6.49083415e-01  3.95774101e-01]\n",
      " [-4.16009689e-01 -1.74335684e+00  1.37546573e-01  1.32509732e-01]\n",
      " [ 7.95669016e-01 -5.92373012e-01  4.78571135e-01  3.95774101e-01]\n",
      " [-1.73673948e-01 -5.92373012e-01  4.21733708e-01  1.32509732e-01]\n",
      " [ 5.53333275e-01  5.58610819e-01  5.35408562e-01  5.27406285e-01]\n",
      " [-1.14301691e+00 -1.51316008e+00 -2.60315415e-01 -2.62386821e-01]\n",
      " [ 9.16836886e-01 -3.62176246e-01  4.78571135e-01  1.32509732e-01]\n",
      " [-7.79513300e-01 -8.22569778e-01  8.07091462e-02  2.64141916e-01]\n",
      " [-1.02184904e+00 -2.43394714e+00 -1.46640561e-01 -2.62386821e-01]\n",
      " [ 6.86617933e-02 -1.31979479e-01  2.51221427e-01  3.95774101e-01]\n",
      " [ 1.89829664e-01 -1.97355361e+00  1.37546573e-01 -2.62386821e-01]\n",
      " [ 3.10997534e-01 -3.62176246e-01  5.35408562e-01  2.64141916e-01]\n",
      " [-2.94841818e-01 -3.62176246e-01 -8.98031345e-02  1.32509732e-01]\n",
      " [ 1.03800476e+00  9.82172869e-02  3.64896281e-01  2.64141916e-01]\n",
      " [-2.94841818e-01 -1.31979479e-01  4.21733708e-01  3.95774101e-01]\n",
      " [-5.25060772e-02 -8.22569778e-01  1.94384000e-01 -2.62386821e-01]\n",
      " [ 4.32165405e-01 -1.97355361e+00  4.21733708e-01  3.95774101e-01]\n",
      " [-2.94841818e-01 -1.28296331e+00  8.07091462e-02 -1.30754636e-01]\n",
      " [ 6.86617933e-02  3.28414053e-01  5.92245988e-01  7.90670654e-01]\n",
      " [ 3.10997534e-01 -5.92373012e-01  1.37546573e-01  1.32509732e-01]\n",
      " [ 5.53333275e-01 -1.28296331e+00  6.49083415e-01  3.95774101e-01]\n",
      " [ 3.10997534e-01 -5.92373012e-01  5.35408562e-01  8.77547895e-04]\n",
      " [ 6.74501145e-01 -3.62176246e-01  3.08058854e-01  1.32509732e-01]\n",
      " [ 9.16836886e-01 -1.31979479e-01  3.64896281e-01  2.64141916e-01]\n",
      " [ 1.15917263e+00 -5.92373012e-01  5.92245988e-01  2.64141916e-01]\n",
      " [ 1.03800476e+00 -1.31979479e-01  7.05920842e-01  6.59038469e-01]\n",
      " [ 1.89829664e-01 -3.62176246e-01  4.21733708e-01  3.95774101e-01]\n",
      " [-1.73673948e-01 -1.05276654e+00 -1.46640561e-01 -2.62386821e-01]\n",
      " [-4.16009689e-01 -1.51316008e+00  2.38717193e-02 -1.30754636e-01]\n",
      " [-4.16009689e-01 -1.51316008e+00 -3.29657076e-02 -2.62386821e-01]\n",
      " [-5.25060772e-02 -8.22569778e-01  8.07091462e-02  8.77547895e-04]\n",
      " [ 1.89829664e-01 -8.22569778e-01  7.62758269e-01  5.27406285e-01]\n",
      " [-5.37177559e-01 -1.31979479e-01  4.21733708e-01  3.95774101e-01]\n",
      " [ 1.89829664e-01  7.88807586e-01  4.21733708e-01  5.27406285e-01]\n",
      " [ 1.03800476e+00  9.82172869e-02  5.35408562e-01  3.95774101e-01]\n",
      " [ 5.53333275e-01 -1.74335684e+00  3.64896281e-01  1.32509732e-01]\n",
      " [-2.94841818e-01 -1.31979479e-01  1.94384000e-01  1.32509732e-01]\n",
      " [-4.16009689e-01 -1.28296331e+00  1.37546573e-01  1.32509732e-01]\n",
      " [-4.16009689e-01 -1.05276654e+00  3.64896281e-01  8.77547895e-04]\n",
      " [ 3.10997534e-01 -1.31979479e-01  4.78571135e-01  2.64141916e-01]\n",
      " [-5.25060772e-02 -1.05276654e+00  1.37546573e-01  8.77547895e-04]\n",
      " [-1.02184904e+00 -1.74335684e+00 -2.60315415e-01 -2.62386821e-01]\n",
      " [-2.94841818e-01 -8.22569778e-01  2.51221427e-01  1.32509732e-01]\n",
      " [-1.73673948e-01 -1.31979479e-01  2.51221427e-01  8.77547895e-04]\n",
      " [-1.73673948e-01 -3.62176246e-01  2.51221427e-01  1.32509732e-01]\n",
      " [ 4.32165405e-01 -3.62176246e-01  3.08058854e-01  1.32509732e-01]\n",
      " [-9.00681170e-01 -1.28296331e+00 -4.30827696e-01 -1.30754636e-01]\n",
      " [-1.73673948e-01 -5.92373012e-01  1.94384000e-01  1.32509732e-01]\n",
      " [ 5.53333275e-01  5.58610819e-01  1.27429511e+00  1.71209594e+00]\n",
      " [-5.25060772e-02 -8.22569778e-01  7.62758269e-01  9.22302838e-01]\n",
      " [ 1.52267624e+00 -1.31979479e-01  1.21745768e+00  1.18556721e+00]\n",
      " [ 5.53333275e-01 -3.62176246e-01  1.04694540e+00  7.90670654e-01]\n",
      " [ 7.95669016e-01 -1.31979479e-01  1.16062026e+00  1.31719939e+00]\n",
      " [ 2.12851559e+00 -1.31979479e-01  1.61531967e+00  1.18556721e+00]\n",
      " [-1.14301691e+00 -1.28296331e+00  4.21733708e-01  6.59038469e-01]\n",
      " [ 1.76501198e+00 -3.62176246e-01  1.44480739e+00  7.90670654e-01]\n",
      " [ 1.03800476e+00 -1.28296331e+00  1.16062026e+00  7.90670654e-01]\n",
      " [ 1.64384411e+00  1.24920112e+00  1.33113254e+00  1.71209594e+00]\n",
      " [ 7.95669016e-01  3.28414053e-01  7.62758269e-01  1.05393502e+00]\n",
      " [ 6.74501145e-01 -8.22569778e-01  8.76433123e-01  9.22302838e-01]\n",
      " [ 1.15917263e+00 -1.31979479e-01  9.90107977e-01  1.18556721e+00]\n",
      " [-1.73673948e-01 -1.28296331e+00  7.05920842e-01  1.05393502e+00]\n",
      " [-5.25060772e-02 -5.92373012e-01  7.62758269e-01  1.58046376e+00]\n",
      " [ 6.74501145e-01  3.28414053e-01  8.76433123e-01  1.44883158e+00]\n",
      " [ 7.95669016e-01 -1.31979479e-01  9.90107977e-01  7.90670654e-01]\n",
      " [ 2.24968346e+00  1.70959465e+00  1.67215710e+00  1.31719939e+00]\n",
      " [ 2.24968346e+00 -1.05276654e+00  1.78583195e+00  1.44883158e+00]\n",
      " [ 1.89829664e-01 -1.97355361e+00  7.05920842e-01  3.95774101e-01]\n",
      " [ 1.28034050e+00  3.28414053e-01  1.10378283e+00  1.44883158e+00]\n",
      " [-2.94841818e-01 -5.92373012e-01  6.49083415e-01  1.05393502e+00]\n",
      " [ 2.24968346e+00 -5.92373012e-01  1.67215710e+00  1.05393502e+00]\n",
      " [ 5.53333275e-01 -8.22569778e-01  6.49083415e-01  7.90670654e-01]\n",
      " [ 1.03800476e+00  5.58610819e-01  1.10378283e+00  1.18556721e+00]\n",
      " [ 1.64384411e+00  3.28414053e-01  1.27429511e+00  7.90670654e-01]\n",
      " [ 4.32165405e-01 -5.92373012e-01  5.92245988e-01  7.90670654e-01]\n",
      " [ 3.10997534e-01 -1.31979479e-01  6.49083415e-01  7.90670654e-01]\n",
      " [ 6.74501145e-01 -5.92373012e-01  1.04694540e+00  1.18556721e+00]\n",
      " [ 1.64384411e+00 -1.31979479e-01  1.16062026e+00  5.27406285e-01]\n",
      " [ 1.88617985e+00 -5.92373012e-01  1.33113254e+00  9.22302838e-01]\n",
      " [ 2.49201920e+00  1.70959465e+00  1.50164482e+00  1.05393502e+00]\n",
      " [ 6.74501145e-01 -5.92373012e-01  1.04694540e+00  1.31719939e+00]\n",
      " [ 5.53333275e-01 -5.92373012e-01  7.62758269e-01  3.95774101e-01]\n",
      " [ 3.10997534e-01 -1.05276654e+00  1.04694540e+00  2.64141916e-01]\n",
      " [ 2.24968346e+00 -1.31979479e-01  1.33113254e+00  1.44883158e+00]\n",
      " [ 5.53333275e-01  7.88807586e-01  1.04694540e+00  1.58046376e+00]\n",
      " [ 6.74501145e-01  9.82172869e-02  9.90107977e-01  7.90670654e-01]\n",
      " [ 1.89829664e-01 -1.31979479e-01  5.92245988e-01  7.90670654e-01]\n",
      " [ 1.28034050e+00  9.82172869e-02  9.33270550e-01  1.18556721e+00]\n",
      " [ 1.03800476e+00  9.82172869e-02  1.04694540e+00  1.58046376e+00]\n",
      " [ 1.28034050e+00  9.82172869e-02  7.62758269e-01  1.44883158e+00]\n",
      " [-5.25060772e-02 -8.22569778e-01  7.62758269e-01  9.22302838e-01]\n",
      " [ 1.15917263e+00  3.28414053e-01  1.21745768e+00  1.44883158e+00]\n",
      " [ 1.03800476e+00  5.58610819e-01  1.10378283e+00  1.71209594e+00]\n",
      " [ 1.03800476e+00 -1.31979479e-01  8.19595696e-01  1.44883158e+00]\n",
      " [ 5.53333275e-01 -1.28296331e+00  7.05920842e-01  9.22302838e-01]\n",
      " [ 7.95669016e-01 -1.31979479e-01  8.19595696e-01  1.05393502e+00]\n",
      " [ 4.32165405e-01  7.88807586e-01  9.33270550e-01  1.44883158e+00]\n",
      " [ 6.86617933e-02 -1.31979479e-01  7.62758269e-01  7.90670654e-01]]\n"
     ]
    }
   ],
   "source": [
    "standardized_iris_data = stats.zscore(iris_data)\n",
    "print(standardized_iris_data)"
   ]
  },
  {
   "cell_type": "code",
   "execution_count": 74,
   "metadata": {},
   "outputs": [
    {
     "name": "stdout",
     "output_type": "stream",
     "text": [
      "[[ 0.941666    0.48205992  0.69852325 ... -0.431629   -0.11413313\n",
      "  -0.32836239]\n",
      " [ 0.48205992  0.24699272  0.35970079 ... -0.22090979 -0.05352691\n",
      "  -0.16478306]\n",
      " [ 0.69852325  0.35970079  0.53926419 ... -0.32151682 -0.03848546\n",
      "  -0.20998656]\n",
      " ...\n",
      " [-0.431629   -0.22090979 -0.32151682 ...  0.20591306  0.06154607\n",
      "   0.14633361]\n",
      " [-0.11413313 -0.05352691 -0.03848546 ...  0.06154607  0.13338841\n",
      "   0.1101824 ]\n",
      " [-0.32836239 -0.16478306 -0.20998656 ...  0.14633361  0.1101824\n",
      "   0.16849635]]\n"
     ]
    }
   ],
   "source": [
    "covMatrix = np.cov(standardized_iris_data,bias=True)\n",
    "print (covMatrix)"
   ]
  },
  {
   "cell_type": "code",
   "execution_count": 75,
   "metadata": {},
   "outputs": [
    {
     "name": "stdout",
     "output_type": "stream",
     "text": [
      "Eigen value: [ 7.23220489e+01+0.00000000e+00j  6.56435490e+00+0.00000000e+00j\n",
      "  9.80636636e-01+0.00000000e+00j -3.71561662e-15+5.65741419e-15j\n",
      " -3.71561662e-15-5.65741419e-15j -6.11299309e-15+0.00000000e+00j\n",
      " -3.63059549e-15+3.94922612e-15j -3.63059549e-15-3.94922612e-15j\n",
      " -4.43203009e-15+0.00000000e+00j  2.53406117e-15+4.46020349e-15j\n",
      "  2.53406117e-15-4.46020349e-15j  5.21272022e-15+0.00000000e+00j\n",
      "  2.93394861e-15+3.23851660e-15j  2.93394861e-15-3.23851660e-15j\n",
      "  4.56612744e-15+0.00000000e+00j  2.35210205e-15+2.95489045e-15j\n",
      "  2.35210205e-15-2.95489045e-15j  3.86800550e-15+0.00000000e+00j\n",
      "  3.71634365e-15+0.00000000e+00j -2.78186295e-15+2.22082693e-15j\n",
      " -2.78186295e-15-2.22082693e-15j -8.84707899e-16+3.27625005e-15j\n",
      " -8.84707899e-16-3.27625005e-15j  5.43966519e-16+3.29289595e-15j\n",
      "  5.43966519e-16-3.29289595e-15j -3.46524528e-15+0.00000000e+00j\n",
      " -3.17784766e-15+0.00000000e+00j  2.20518412e-15+1.86776835e-15j\n",
      "  2.20518412e-15-1.86776835e-15j -1.99607153e-15+1.49407396e-15j\n",
      " -1.99607153e-15-1.49407396e-15j  1.56049919e-16+2.29064559e-15j\n",
      "  1.56049919e-16-2.29064559e-15j  1.74213190e-15+3.75996782e-16j\n",
      "  1.74213190e-15-3.75996782e-16j -1.60908919e-15+0.00000000e+00j\n",
      "  1.26038953e-15+0.00000000e+00j -7.62501918e-16+1.00839127e-15j\n",
      " -7.62501918e-16-1.00839127e-15j -1.16389023e-15+4.06141341e-16j\n",
      " -1.16389023e-15-4.06141341e-16j  1.09332938e-15+3.55621197e-16j\n",
      "  1.09332938e-15-3.55621197e-16j  8.27233047e-17+1.07347992e-15j\n",
      "  8.27233047e-17-1.07347992e-15j  9.32846702e-16+4.66597544e-16j\n",
      "  9.32846702e-16-4.66597544e-16j  7.02887118e-16+7.49391880e-16j\n",
      "  7.02887118e-16-7.49391880e-16j -9.58957877e-16+5.76893264e-16j\n",
      " -9.58957877e-16-5.76893264e-16j -6.93692692e-16+8.09904606e-16j\n",
      " -6.93692692e-16-8.09904606e-16j -1.01111044e-15+1.31101464e-16j\n",
      " -1.01111044e-15-1.31101464e-16j -4.72473344e-16+8.41780922e-16j\n",
      " -4.72473344e-16-8.41780922e-16j  8.87128097e-16+1.72631681e-16j\n",
      "  8.87128097e-16-1.72631681e-16j  5.85954878e-16+6.48507494e-16j\n",
      "  5.85954878e-16-6.48507494e-16j  6.10955078e-16+5.20256064e-16j\n",
      "  6.10955078e-16-5.20256064e-16j -7.94504269e-16+1.82537300e-16j\n",
      " -7.94504269e-16-1.82537300e-16j -5.86539207e-16+4.51425044e-16j\n",
      " -5.86539207e-16-4.51425044e-16j -4.49326919e-16+5.75630348e-16j\n",
      " -4.49326919e-16-5.75630348e-16j  1.48357879e-16+6.62834185e-16j\n",
      "  1.48357879e-16-6.62834185e-16j  2.34821031e-16+6.20390705e-16j\n",
      "  2.34821031e-16-6.20390705e-16j -6.45727024e-16+0.00000000e+00j\n",
      "  5.91316881e-16+5.43822716e-17j  5.91316881e-16-5.43822716e-17j\n",
      " -5.49299230e-16+0.00000000e+00j -3.90453821e-16+3.42660281e-16j\n",
      " -3.90453821e-16-3.42660281e-16j -2.24655369e-16+4.15225119e-16j\n",
      " -2.24655369e-16-4.15225119e-16j  2.44201713e-16+4.03991551e-16j\n",
      "  2.44201713e-16-4.03991551e-16j -4.62546659e-16+0.00000000e+00j\n",
      "  4.61180700e-16+0.00000000e+00j  4.06866478e-16+1.97082076e-16j\n",
      "  4.06866478e-16-1.97082076e-16j -5.80536193e-17+4.47939233e-16j\n",
      " -5.80536193e-17-4.47939233e-16j  7.82130332e-17+4.41535605e-16j\n",
      "  7.82130332e-17-4.41535605e-16j -3.69706979e-16+1.97150093e-16j\n",
      " -3.69706979e-16-1.97150093e-16j  3.67255494e-16+2.22263043e-16j\n",
      "  3.67255494e-16-2.22263043e-16j  2.63198580e-16+3.09891344e-16j\n",
      "  2.63198580e-16-3.09891344e-16j  2.85749962e-16+2.77024131e-16j\n",
      "  2.85749962e-16-2.77024131e-16j -3.25819747e-16+1.97277995e-16j\n",
      " -3.25819747e-16-1.97277995e-16j  3.68664409e-16+0.00000000e+00j\n",
      " -1.60509593e-17+3.45168951e-16j -1.60509593e-17-3.45168951e-16j\n",
      "  2.78001823e-16+1.57749537e-16j  2.78001823e-16-1.57749537e-16j\n",
      " -2.39509702e-16+2.12541596e-16j -2.39509702e-16-2.12541596e-16j\n",
      " -2.89582182e-16+0.00000000e+00j -1.35063822e-16+2.46101665e-16j\n",
      " -1.35063822e-16-2.46101665e-16j  9.09430024e-17+2.49698041e-16j\n",
      "  9.09430024e-17-2.49698041e-16j -1.60185255e-16+1.66506795e-16j\n",
      " -1.60185255e-16-1.66506795e-16j -2.01044151e-16+0.00000000e+00j\n",
      " -1.91301613e-16+6.79642399e-17j -1.91301613e-16-6.79642399e-17j\n",
      "  1.96742609e-16+4.16489684e-17j  1.96742609e-16-4.16489684e-17j\n",
      "  1.54640721e-16+1.03210591e-16j  1.54640721e-16-1.03210591e-16j\n",
      "  3.10748248e-17+1.64805167e-16j  3.10748248e-17-1.64805167e-16j\n",
      " -9.55950594e-17+8.81288891e-17j -9.55950594e-17-8.81288891e-17j\n",
      "  1.47356295e-16+0.00000000e+00j -9.54075084e-17+6.99209419e-17j\n",
      " -9.54075084e-17-6.99209419e-17j  5.24849506e-17+8.39582660e-17j\n",
      "  5.24849506e-17-8.39582660e-17j  8.56352688e-17+3.04725047e-17j\n",
      "  8.56352688e-17-3.04725047e-17j  5.99815316e-19+9.20974092e-17j\n",
      "  5.99815316e-19-9.20974092e-17j -7.11213657e-17+0.00000000e+00j\n",
      " -6.45465689e-17+4.66502313e-17j -6.45465689e-17-4.66502313e-17j\n",
      "  8.05168539e-17+9.43724827e-18j  8.05168539e-17-9.43724827e-18j\n",
      "  2.54102187e-17+5.13212220e-17j  2.54102187e-17-5.13212220e-17j\n",
      " -1.20939155e-17+1.76961079e-17j -1.20939155e-17-1.76961079e-17j\n",
      " -7.29176804e-18+3.15516275e-17j -7.29176804e-18-3.15516275e-17j\n",
      " -3.94375277e-17+0.00000000e+00j -5.33210992e-17+0.00000000e+00j\n",
      "  2.17848711e-18+0.00000000e+00j -5.68108660e-19+0.00000000e+00j]\n",
      "Eigen vector [[ 1.13942351e-01+0.j  2.03501961e-02+0.j  7.25942839e-04+0.j ...\n",
      "   8.44471132e-03+0.j  3.32916937e-03+0.j  5.05397144e-03+0.j]\n",
      " [ 5.84223698e-02+0.j  4.70024956e-03+0.j -1.26797291e-04+0.j ...\n",
      "  -3.47619920e-03+0.j -3.59632431e-03+0.j -3.03459192e-03+0.j]\n",
      " [ 8.54330391e-02+0.j -4.11950547e-02+0.j  1.62765160e-02+0.j ...\n",
      "   5.19786832e-02+0.j  1.68967232e-02+0.j  2.67724001e-03+0.j]\n",
      " ...\n",
      " [-5.22168752e-02+0.j -9.49742590e-03+0.j -9.10383743e-02+0.j ...\n",
      "  -5.74312869e-02+0.j  7.72745245e-02+0.j  4.90431182e-02+0.j]\n",
      " [-1.17124146e-02+0.j -1.31328803e-01+0.j -1.02237546e-01+0.j ...\n",
      "   4.17377271e-03+0.j -9.41592402e-02+0.j -1.03948325e-01+0.j]\n",
      " [-3.82992980e-02+0.j -9.57389611e-02+0.j  4.78278655e-02+0.j ...\n",
      "   1.94308918e-01+0.j  8.43963714e-02+0.j  1.96714792e-02+0.j]]\n"
     ]
    }
   ],
   "source": [
    "w,v=eig(covMatrix)\n",
    "print('Eigen value:', w)\n",
    "print('Eigen vector', v)"
   ]
  }
 ],
 "metadata": {
  "kernelspec": {
   "display_name": "Python 3",
   "language": "python",
   "name": "python3"
  },
  "language_info": {
   "codemirror_mode": {
    "name": "ipython",
    "version": 3
   },
   "file_extension": ".py",
   "mimetype": "text/x-python",
   "name": "python",
   "nbconvert_exporter": "python",
   "pygments_lexer": "ipython3",
   "version": "3.8.5"
  }
 },
 "nbformat": 4,
 "nbformat_minor": 4
}

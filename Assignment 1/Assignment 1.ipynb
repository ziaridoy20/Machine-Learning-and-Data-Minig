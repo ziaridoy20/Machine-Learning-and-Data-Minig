{
 "cells": [
  {
   "cell_type": "markdown",
   "metadata": {},
   "source": [
    "# Programming - Assignment 01\n",
    "\n",
    "## Python Tutorial"
   ]
  },
  {
   "cell_type": "markdown",
   "metadata": {},
   "source": [
    "### 1. Classes\n",
    "\n",
    "Create a python class that is called \"User\" with the following:\n",
    "\n",
    "- A constructor that takes as parameters (firstname, dateOfBirth).\n",
    "- A method \"setFirstname\" that changes the firstname.\n",
    "- A method \"getFirstname\" that returns the firstname.\n",
    "- A method \"getAge\" that returns the age of the user.\n",
    "\n",
    "---\n",
    "\n",
    "For this task we are assuming that the dateOfBirth is of **datetime** type, therefore, we need to import the datetime library.\n",
    "\n",
    "For more informations please see the following documentation: https://docs.python.org/3/library/datetime.html#datetime.datetime.strptime\n",
    "\n",
    "The format codes used for the dates in this task are:\n",
    "- %d Day of the month as a zero-padded decimal number, example: 01, 02, ...etc.\n",
    "- %m Month as a zero-padded decimal number, example: 01, 02, ..etc.\n",
    "- %Y Year with century as a decimal number, example: 2021, 2020, ...etc.\n",
    "- For more information please visit: https://docs.python.org/3/library/datetime.html#strftime-and-strptime-behavior"
   ]
  },
  {
   "cell_type": "code",
   "execution_count": 1,
   "metadata": {},
   "outputs": [],
   "source": [
    "# Import required libraries to work with dates\n",
    "from datetime import datetime\n",
    "\n",
    "class User:\n",
    "    # Defining the constructor\n",
    "    def __init__(self, firstname, dateOfBirth):\n",
    "        self.firstname = firstname\n",
    "        \n",
    "        # Set the dateOfBirth. The format is d-m-Y example: (01-01-2021)\n",
    "        self.dateOfBirth = datetime.strptime(dateOfBirth, \"%d-%m-%Y\")\n",
    "        \n",
    "    # Firstname getter\n",
    "    def getFirstname(self):\n",
    "        \n",
    "        # Return the firstname\n",
    "        return self.firstname\n",
    "    \n",
    "    # Firstname setter\n",
    "    def setFirstname(self, firstname):\n",
    "        \n",
    "        # Change the firstname to the new value\n",
    "        self.firstname = firstname\n",
    "        \n",
    "    # Age getter\n",
    "    def getAge(self):\n",
    "        # Get the current year\n",
    "        currentYear = datetime.now().year\n",
    "        \n",
    "        # Return the age\n",
    "        return currentYear - self.dateOfBirth.year\n",
    "        "
   ]
  },
  {
   "cell_type": "code",
   "execution_count": 2,
   "metadata": {},
   "outputs": [
    {
     "name": "stdout",
     "output_type": "stream",
     "text": [
      "User 1 ---> Firstname: Zeyd --- Age: 23\n",
      "User 1 ---> New firstname: Azeddine\n"
     ]
    }
   ],
   "source": [
    "# Creating objects based on the User class\n",
    "user1 = User(\"Zeyd\", \"01-01-1998\")\n",
    "\n",
    "user1_firstname = user1.getFirstname()\n",
    "user1_age= user1.getAge()\n",
    "\n",
    "print(\"User 1 ---> Firstname: {0} --- Age: {1}\".format(user1_firstname, user1_age))\n",
    "\n",
    "# Changing the firstname of the user\n",
    "user1.setFirstname(\"Azeddine\")\n",
    "# Getting the new firstname\n",
    "user1_firstname = user1.getFirstname()\n",
    "\n",
    "\n",
    "print(\"User 1 ---> New firstname: {0}\".format(user1_firstname))"
   ]
  },
  {
   "cell_type": "markdown",
   "metadata": {},
   "source": [
    "### 2. Pandas read/write operations\n",
    "\n",
    "The data downloaded from the assignment is saved under the name **data.csv**\n",
    "\n",
    "To start using pandas, we first need to import the library. It is common to rename pandas while importing it to **pd** (short for pandas), because it is regularly used within the code and it is easier to refer to the abbreviation **pd**."
   ]
  },
  {
   "cell_type": "code",
   "execution_count": 3,
   "metadata": {},
   "outputs": [],
   "source": [
    "# Importing the library\n",
    "import pandas as pd"
   ]
  },
  {
   "cell_type": "code",
   "execution_count": 4,
   "metadata": {},
   "outputs": [],
   "source": [
    "# Reading the dataframe\n",
    "# Note that if the csv file does not contain headers or you want to change the default headers you can add a parameter called \"header=[]\" to the read_csv function\n",
    "dataframe = pd.read_csv('data.csv')"
   ]
  },
  {
   "cell_type": "code",
   "execution_count": 5,
   "metadata": {},
   "outputs": [
    {
     "data": {
      "text/html": [
       "<div>\n",
       "<style scoped>\n",
       "    .dataframe tbody tr th:only-of-type {\n",
       "        vertical-align: middle;\n",
       "    }\n",
       "\n",
       "    .dataframe tbody tr th {\n",
       "        vertical-align: top;\n",
       "    }\n",
       "\n",
       "    .dataframe thead th {\n",
       "        text-align: right;\n",
       "    }\n",
       "</style>\n",
       "<table border=\"1\" class=\"dataframe\">\n",
       "  <thead>\n",
       "    <tr style=\"text-align: right;\">\n",
       "      <th></th>\n",
       "      <th>y_original</th>\n",
       "      <th>y_predicted</th>\n",
       "    </tr>\n",
       "  </thead>\n",
       "  <tbody>\n",
       "    <tr>\n",
       "      <td>0</td>\n",
       "      <td>3.888889</td>\n",
       "      <td>5.717660</td>\n",
       "    </tr>\n",
       "    <tr>\n",
       "      <td>1</td>\n",
       "      <td>4.555556</td>\n",
       "      <td>6.365723</td>\n",
       "    </tr>\n",
       "    <tr>\n",
       "      <td>2</td>\n",
       "      <td>5.222222</td>\n",
       "      <td>7.013786</td>\n",
       "    </tr>\n",
       "    <tr>\n",
       "      <td>3</td>\n",
       "      <td>5.888889</td>\n",
       "      <td>7.661848</td>\n",
       "    </tr>\n",
       "    <tr>\n",
       "      <td>4</td>\n",
       "      <td>6.555556</td>\n",
       "      <td>8.309911</td>\n",
       "    </tr>\n",
       "  </tbody>\n",
       "</table>\n",
       "</div>"
      ],
      "text/plain": [
       "   y_original  y_predicted\n",
       "0    3.888889     5.717660\n",
       "1    4.555556     6.365723\n",
       "2    5.222222     7.013786\n",
       "3    5.888889     7.661848\n",
       "4    6.555556     8.309911"
      ]
     },
     "execution_count": 5,
     "metadata": {},
     "output_type": "execute_result"
    }
   ],
   "source": [
    "# Show only the first 5 rows\n",
    "# Note that you can pass an integer to the function head() that sepcify how many rows. For example: df.head(10)\n",
    "dataframe.head()\n",
    "\n",
    "# There is also a tail() function that shows last elements. "
   ]
  },
  {
   "cell_type": "code",
   "execution_count": 6,
   "metadata": {},
   "outputs": [],
   "source": [
    "# Writing the dataframe into a csv file\n",
    "# Note that the index argument hear is false, meaning that we don't want to store the row index as a column within the csv file.\n",
    "dataframe.to_csv(\"data.csv\", index=False)"
   ]
  },
  {
   "cell_type": "markdown",
   "metadata": {},
   "source": [
    "3. Pandas column operations\n",
    "\n",
    "In this task, we would like to add a new column to the dataframe such that the values of this column will contain the square root of the **y_original** column \n",
    "\n",
    "- First, we will learn how we can get a specific column (dataframe indexing). There are multiple ways that can be used but the most common ones are:\n",
    "    - df.iloc[rows_index:columns_index]: iloc allows using indexes (numerical indexes).\n",
    "    - df.loc[rows_index:columns_names]: loc however refers to column by name instead of indexes. \n",
    "    - df[columns_name]: the traditional way of obtaining columns from the dataframe.\n",
    "    \n",
    "- Second, we apply a certain operation to the obtained columns. This can be achieved using the **apply** function. We will take help from the function provided by numpy (numpy.sqrt) to apply the square root to the respective column."
   ]
  },
  {
   "cell_type": "code",
   "execution_count": 7,
   "metadata": {},
   "outputs": [],
   "source": [
    "import numpy as np\n",
    "# Apply the sqrt to the \"y_original\" column\n",
    "dataframe['sqrt(y)'] = dataframe.loc[:, \"y_original\"].apply(np.sqrt)"
   ]
  },
  {
   "cell_type": "code",
   "execution_count": 8,
   "metadata": {},
   "outputs": [
    {
     "data": {
      "text/html": [
       "<div>\n",
       "<style scoped>\n",
       "    .dataframe tbody tr th:only-of-type {\n",
       "        vertical-align: middle;\n",
       "    }\n",
       "\n",
       "    .dataframe tbody tr th {\n",
       "        vertical-align: top;\n",
       "    }\n",
       "\n",
       "    .dataframe thead th {\n",
       "        text-align: right;\n",
       "    }\n",
       "</style>\n",
       "<table border=\"1\" class=\"dataframe\">\n",
       "  <thead>\n",
       "    <tr style=\"text-align: right;\">\n",
       "      <th></th>\n",
       "      <th>y_original</th>\n",
       "      <th>y_predicted</th>\n",
       "      <th>sqrt(y)</th>\n",
       "    </tr>\n",
       "  </thead>\n",
       "  <tbody>\n",
       "    <tr>\n",
       "      <td>0</td>\n",
       "      <td>3.888889</td>\n",
       "      <td>5.717660</td>\n",
       "      <td>1.972027</td>\n",
       "    </tr>\n",
       "    <tr>\n",
       "      <td>1</td>\n",
       "      <td>4.555556</td>\n",
       "      <td>6.365723</td>\n",
       "      <td>2.134375</td>\n",
       "    </tr>\n",
       "    <tr>\n",
       "      <td>2</td>\n",
       "      <td>5.222222</td>\n",
       "      <td>7.013786</td>\n",
       "      <td>2.285218</td>\n",
       "    </tr>\n",
       "    <tr>\n",
       "      <td>3</td>\n",
       "      <td>5.888889</td>\n",
       "      <td>7.661848</td>\n",
       "      <td>2.426703</td>\n",
       "    </tr>\n",
       "    <tr>\n",
       "      <td>4</td>\n",
       "      <td>6.555556</td>\n",
       "      <td>8.309911</td>\n",
       "      <td>2.560382</td>\n",
       "    </tr>\n",
       "  </tbody>\n",
       "</table>\n",
       "</div>"
      ],
      "text/plain": [
       "   y_original  y_predicted   sqrt(y)\n",
       "0    3.888889     5.717660  1.972027\n",
       "1    4.555556     6.365723  2.134375\n",
       "2    5.222222     7.013786  2.285218\n",
       "3    5.888889     7.661848  2.426703\n",
       "4    6.555556     8.309911  2.560382"
      ]
     },
     "execution_count": 8,
     "metadata": {},
     "output_type": "execute_result"
    }
   ],
   "source": [
    "# Show the new results\n",
    "dataframe.head()"
   ]
  },
  {
   "cell_type": "markdown",
   "metadata": {},
   "source": [
    "### 4. Visualization\n",
    "\n",
    "In this task we will use **matplotlib** library for visualization. You may use any other visualization library that suits you."
   ]
  },
  {
   "cell_type": "code",
   "execution_count": 9,
   "metadata": {},
   "outputs": [],
   "source": [
    "import numpy as np\n",
    "import pandas as pd\n",
    "\n",
    "# Importing matplotlib library\n",
    "import matplotlib.pyplot as plt"
   ]
  },
  {
   "cell_type": "code",
   "execution_count": 10,
   "metadata": {},
   "outputs": [],
   "source": [
    "# Reading the visualization dataset\n",
    "df = pd.read_csv(\"visualization.csv\")"
   ]
  },
  {
   "cell_type": "code",
   "execution_count": 11,
   "metadata": {},
   "outputs": [
    {
     "data": {
      "text/html": [
       "<div>\n",
       "<style scoped>\n",
       "    .dataframe tbody tr th:only-of-type {\n",
       "        vertical-align: middle;\n",
       "    }\n",
       "\n",
       "    .dataframe tbody tr th {\n",
       "        vertical-align: top;\n",
       "    }\n",
       "\n",
       "    .dataframe thead th {\n",
       "        text-align: right;\n",
       "    }\n",
       "</style>\n",
       "<table border=\"1\" class=\"dataframe\">\n",
       "  <thead>\n",
       "    <tr style=\"text-align: right;\">\n",
       "      <th></th>\n",
       "      <th>Name</th>\n",
       "      <th>NOC</th>\n",
       "      <th>Discipline</th>\n",
       "    </tr>\n",
       "  </thead>\n",
       "  <tbody>\n",
       "    <tr>\n",
       "      <td>0</td>\n",
       "      <td>AALERUD Katrine</td>\n",
       "      <td>Norway</td>\n",
       "      <td>Cycling Road</td>\n",
       "    </tr>\n",
       "    <tr>\n",
       "      <td>1</td>\n",
       "      <td>ABAD Nestor</td>\n",
       "      <td>Spain</td>\n",
       "      <td>Artistic Gymnastics</td>\n",
       "    </tr>\n",
       "    <tr>\n",
       "      <td>2</td>\n",
       "      <td>ABAGNALE Giovanni</td>\n",
       "      <td>Italy</td>\n",
       "      <td>Rowing</td>\n",
       "    </tr>\n",
       "    <tr>\n",
       "      <td>3</td>\n",
       "      <td>ABALDE Alberto</td>\n",
       "      <td>Spain</td>\n",
       "      <td>Basketball</td>\n",
       "    </tr>\n",
       "    <tr>\n",
       "      <td>4</td>\n",
       "      <td>ABALDE Tamara</td>\n",
       "      <td>Spain</td>\n",
       "      <td>Basketball</td>\n",
       "    </tr>\n",
       "  </tbody>\n",
       "</table>\n",
       "</div>"
      ],
      "text/plain": [
       "                Name     NOC           Discipline\n",
       "0    AALERUD Katrine  Norway         Cycling Road\n",
       "1        ABAD Nestor   Spain  Artistic Gymnastics\n",
       "2  ABAGNALE Giovanni   Italy               Rowing\n",
       "3     ABALDE Alberto   Spain           Basketball\n",
       "4      ABALDE Tamara   Spain           Basketball"
      ]
     },
     "execution_count": 11,
     "metadata": {},
     "output_type": "execute_result"
    }
   ],
   "source": [
    "# Show the first 5 rows \n",
    "df.head()"
   ]
  },
  {
   "cell_type": "code",
   "execution_count": 12,
   "metadata": {},
   "outputs": [],
   "source": [
    "# Getting the list of countries from the dataset\n",
    "\n",
    "# First, we are getting the values from the country column \"NOC\", and then we are counting how many occurrences each country had using the\n",
    "# value_counts function provided by pandas\n",
    "# Lastly, we are just saving the top 10 counties - value_counts sorts the countries from highest to lowest\n",
    "countries = df.iloc[:, 1].value_counts()[:10]\n",
    "\n",
    "# Resorting the values in an ascending order just to have nice visualization\n",
    "countries = countries.sort_values()"
   ]
  },
  {
   "cell_type": "code",
   "execution_count": 13,
   "metadata": {},
   "outputs": [
    {
     "data": {
      "image/png": "[encoded data removed]",
      "text/plain": [
       "<Figure size 1440x720 with 1 Axes>"
      ]
     },
     "metadata": {
      "needs_background": "light"
     },
     "output_type": "display_data"
    }
   ],
   "source": [
    "# Creating a figure with the specified size\n",
    "figure= plt.subplots(figsize=(20, 10))\n",
    "# Ploting the countries into a horizontal bar plot using the barh function by matplotlib\n",
    "ax = plt.barh(countries.index, countries.values, color=\"#3498db\")"
   ]
  }
 ],
 "metadata": {
  "kernelspec": {
   "display_name": "Python 3",
   "language": "python",
   "name": "python3"
  },
  "language_info": {
   "codemirror_mode": {
    "name": "ipython",
    "version": 3
   },
   "file_extension": ".py",
   "mimetype": "text/x-python",
   "name": "python",
   "nbconvert_exporter": "python",
   "pygments_lexer": "ipython3",
   "version": "3.7.4"
  }
 },
 "nbformat": 4,
 "nbformat_minor": 4
}

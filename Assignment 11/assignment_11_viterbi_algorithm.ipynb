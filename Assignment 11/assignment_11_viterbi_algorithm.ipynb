{
 "cells": [
  {
   "cell_type": "code",
   "execution_count": 1,
   "metadata": {},
   "outputs": [],
   "source": [
    "########### Assignmet_11 : viterbi_algorithm\n",
    "########### Md Ziauddin Ridoy, 220100676, ziaridoy20@uni-koblenz.de"
   ]
  },
  {
   "cell_type": "code",
   "execution_count": 2,
   "metadata": {},
   "outputs": [],
   "source": [
    "# Helps visualize the steps of Viterbi.\n",
    "def print_dptable(V):\n",
    "    print(\"    \", end=' ')\n",
    "    for i in range(len(V)):\n",
    "        print(\"%7d\" % i, end=' ')\n",
    "    print()\n",
    "\n",
    "    for y in V[0].keys():\n",
    "        print(\"%.5s: \" % y, end=' ')\n",
    "        for t in range(len(V)):\n",
    "            print(\"%.7s\" % (\"%f\" % V[t][y]), end=' ')\n",
    "        print()\n",
    "\n",
    "def viterbi(obs, states, start_p, trans_p, emit_p):\n",
    "    V = [{}]\n",
    "    path = {}\n",
    "\n",
    "    # Initialize base cases (t == 0)\n",
    "    for y in states:\n",
    "        V[0][y] = start_p[y] * emit_p[y][obs[0]]\n",
    "        path[y] = [y]\n",
    "\n",
    "    # Run Viterbi for t > 0\n",
    "    for t in range(1,len(obs)):\n",
    "        V.append({})\n",
    "        newpath = {}\n",
    "\n",
    "        for y in states:\n",
    "            (prob, state) = max([(V[t-1][y0] * trans_p[y0][y] * emit_p[y][obs[t]], y0) for y0 in states])\n",
    "            V[t][y] = prob\n",
    "            newpath[y] = path[state] + [y]\n",
    "\n",
    "        # Don't need to remember the old paths\n",
    "        path = newpath\n",
    "\n",
    "    print_dptable(V)\n",
    "    (prob, state) = max([(V[len(obs) - 1][y], y) for y in states])\n",
    "    return (prob, path[state])"
   ]
  },
  {
   "cell_type": "code",
   "execution_count": 3,
   "metadata": {},
   "outputs": [],
   "source": [
    "states = ('Rain', 'Dry')\n",
    " \n",
    "observations = ('Low', 'High')\n",
    " \n",
    "start_probability = {'Rain': 0.6, 'Dry': 0.4}\n",
    " \n",
    "transition_probability = {\n",
    "   'Rain' : {'Rain': 0.7, 'Dry': 0.2},\n",
    "   'Dry' : {'Rain': 0.3, 'Dry': 0.8},\n",
    "   }\n",
    " \n",
    "emission_probability = {\n",
    "   'Rain' : {'Low': 0.6, 'High': 0.4},\n",
    "   'Dry' : {'Low': 0.3, 'High': 0.7},\n",
    "   }"
   ]
  },
  {
   "cell_type": "code",
   "execution_count": 4,
   "metadata": {},
   "outputs": [
    {
     "name": "stdout",
     "output_type": "stream",
     "text": [
      "           0       1 \n",
      "Rain:  0.36000 0.10080 \n",
      "Dry:  0.12000 0.06720 \n",
      "0.1008 ['Rain', 'Rain']\n"
     ]
    }
   ],
   "source": [
    "def example():\n",
    "    return viterbi(observations,\n",
    "                   states,\n",
    "                   start_probability,\n",
    "                   transition_probability,\n",
    "                   emission_probability)\n",
    "prob, path = example()\n",
    "print(prob, path)"
   ]
  },
  {
   "cell_type": "code",
   "execution_count": 5,
   "metadata": {},
   "outputs": [],
   "source": [
    "def line_plot_object(series):\n",
    "    import pandas\n",
    "    %matplotlib inline\n",
    "    s = pandas.Series(series)\n",
    "    return s.transpose().plot()"
   ]
  },
  {
   "cell_type": "code",
   "execution_count": 6,
   "metadata": {},
   "outputs": [
    {
     "data": {
      "text/plain": [
       "<AxesSubplot:>"
      ]
     },
     "execution_count": 6,
     "metadata": {},
     "output_type": "execute_result"
    },
    {
     "data": {
      "image/png": "[encoded data removed]",
      "text/plain": [
       "<Figure size 432x288 with 1 Axes>"
      ]
     },
     "metadata": {
      "needs_background": "light"
     },
     "output_type": "display_data"
    }
   ],
   "source": [
    "# plot probability path of best path\n",
    "prob_path = [start_probability[path[0]]]\n",
    "for t in range(1, len(path)):\n",
    "    prob_path.append(prob_path[t-1] * transition_probability[path[t-1]][path[t]] * emission_probability[path[t]][observations[t]])\n",
    "line_plot_object(prob_path)"
   ]
  }
 ],
 "metadata": {
  "kernelspec": {
   "display_name": "Python 3",
   "language": "python",
   "name": "python3"
  },
  "language_info": {
   "codemirror_mode": {
    "name": "ipython",
    "version": 3
   },
   "file_extension": ".py",
   "mimetype": "text/x-python",
   "name": "python",
   "nbconvert_exporter": "python",
   "pygments_lexer": "ipython3",
   "version": "3.8.5"
  }
 },
 "nbformat": 4,
 "nbformat_minor": 4
}

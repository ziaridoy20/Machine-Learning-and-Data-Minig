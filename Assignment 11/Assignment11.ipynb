{
 "cells": [
  {
   "cell_type": "code",
   "execution_count": 1,
   "metadata": {},
   "outputs": [],
   "source": [
    "initial_prob={}\n",
    "initial_prob['happy']=0.1\n",
    "initial_prob['sad']=0.9"
   ]
  },
  {
   "cell_type": "code",
   "execution_count": 2,
   "metadata": {},
   "outputs": [
    {
     "data": {
      "text/plain": [
       "{'happy': 0.1, 'sad': 0.9}"
      ]
     },
     "execution_count": 2,
     "metadata": {},
     "output_type": "execute_result"
    }
   ],
   "source": [
    "initial_prob"
   ]
  },
  {
   "cell_type": "code",
   "execution_count": 3,
   "metadata": {},
   "outputs": [],
   "source": [
    "import pandas as pd\n",
    "import numpy as np\n",
    "\n",
    "trans_prob_array=np.array([[0.7,0.3],\n",
    "                           [0.4,0.6]])\n",
    "hidden_states=['happy','sad']\n",
    "transition_df=pd.DataFrame(trans_prob_array,index=hidden_states,columns=hidden_states)"
   ]
  },
  {
   "cell_type": "code",
   "execution_count": 4,
   "metadata": {},
   "outputs": [
    {
     "data": {
      "text/html": [
       "<div>\n",
       "<style scoped>\n",
       "    .dataframe tbody tr th:only-of-type {\n",
       "        vertical-align: middle;\n",
       "    }\n",
       "\n",
       "    .dataframe tbody tr th {\n",
       "        vertical-align: top;\n",
       "    }\n",
       "\n",
       "    .dataframe thead th {\n",
       "        text-align: right;\n",
       "    }\n",
       "</style>\n",
       "<table border=\"1\" class=\"dataframe\">\n",
       "  <thead>\n",
       "    <tr style=\"text-align: right;\">\n",
       "      <th></th>\n",
       "      <th>happy</th>\n",
       "      <th>sad</th>\n",
       "    </tr>\n",
       "  </thead>\n",
       "  <tbody>\n",
       "    <tr>\n",
       "      <th>happy</th>\n",
       "      <td>0.7</td>\n",
       "      <td>0.3</td>\n",
       "    </tr>\n",
       "    <tr>\n",
       "      <th>sad</th>\n",
       "      <td>0.4</td>\n",
       "      <td>0.6</td>\n",
       "    </tr>\n",
       "  </tbody>\n",
       "</table>\n",
       "</div>"
      ],
      "text/plain": [
       "       happy  sad\n",
       "happy    0.7  0.3\n",
       "sad      0.4  0.6"
      ]
     },
     "execution_count": 4,
     "metadata": {},
     "output_type": "execute_result"
    }
   ],
   "source": [
    "transition_df"
   ]
  },
  {
   "cell_type": "code",
   "execution_count": 5,
   "metadata": {},
   "outputs": [],
   "source": [
    "emiss_prob_array=np.array([[0.8,0.2],\n",
    "                           [0.4,0.6]])\n",
    "emission_df=pd.DataFrame(emiss_prob_array,index=['happy','sad'],columns=['sunny','rainy'])"
   ]
  },
  {
   "cell_type": "code",
   "execution_count": 6,
   "metadata": {},
   "outputs": [
    {
     "data": {
      "text/html": [
       "<div>\n",
       "<style scoped>\n",
       "    .dataframe tbody tr th:only-of-type {\n",
       "        vertical-align: middle;\n",
       "    }\n",
       "\n",
       "    .dataframe tbody tr th {\n",
       "        vertical-align: top;\n",
       "    }\n",
       "\n",
       "    .dataframe thead th {\n",
       "        text-align: right;\n",
       "    }\n",
       "</style>\n",
       "<table border=\"1\" class=\"dataframe\">\n",
       "  <thead>\n",
       "    <tr style=\"text-align: right;\">\n",
       "      <th></th>\n",
       "      <th>sunny</th>\n",
       "      <th>rainy</th>\n",
       "    </tr>\n",
       "  </thead>\n",
       "  <tbody>\n",
       "    <tr>\n",
       "      <th>happy</th>\n",
       "      <td>0.8</td>\n",
       "      <td>0.2</td>\n",
       "    </tr>\n",
       "    <tr>\n",
       "      <th>sad</th>\n",
       "      <td>0.4</td>\n",
       "      <td>0.6</td>\n",
       "    </tr>\n",
       "  </tbody>\n",
       "</table>\n",
       "</div>"
      ],
      "text/plain": [
       "       sunny  rainy\n",
       "happy    0.8    0.2\n",
       "sad      0.4    0.6"
      ]
     },
     "execution_count": 6,
     "metadata": {},
     "output_type": "execute_result"
    }
   ],
   "source": [
    "emission_df"
   ]
  },
  {
   "cell_type": "code",
   "execution_count": 7,
   "metadata": {},
   "outputs": [],
   "source": [
    "observed_sequence=['sunny','rainy']\n"
   ]
  },
  {
   "cell_type": "code",
   "execution_count": 8,
   "metadata": {},
   "outputs": [],
   "source": [
    "def HMM(initial_prob,transition_df,emission_df,observed_sequence):\n",
    "    hidden_sequence=[]\n",
    "    current_state={}\n",
    "    back_track = {}\n",
    "    j=0\n",
    "    for i in hidden_states:\n",
    "        current_state[i]=initial_prob[i]*emission_df.loc[i,observed_sequence[j]]\n",
    "        back_track[i] =[] \n",
    "   \n",
    "    \n",
    "    previous_state=current_state\n",
    "    \n",
    "    j=1                                                     \n",
    "    while(j<len(observed_sequence)):\n",
    "        current_state_temp={}\n",
    "        for h in hidden_states:\n",
    "                                                         \n",
    "            probability=[]\n",
    "            for p in previous_state:\n",
    "                \n",
    "                prob=previous_state[p]*transition_df.loc[p,h]*emission_df.loc[h,observed_sequence[j]]\n",
    "                \n",
    "                probability.append(prob)\n",
    "           \n",
    "            current_state_temp[h]=max(probability)\n",
    "            back_track[h].append(hidden_states[probability.index(max(probability))])\n",
    "            \n",
    "        \n",
    "        previous_state=current_state_temp\n",
    "        j=j+1\n",
    "    current_state=current_state_temp\n",
    "    final_hidden_state=max(current_state,key=current_state_temp.get)\n",
    "    hidden_sequence=back_track[final_hidden_state]\n",
    "    hidden_sequence.append(final_hidden_state)\n",
    "    return hidden_sequence,current_state\n",
    "    "
   ]
  },
  {
   "cell_type": "code",
   "execution_count": 9,
   "metadata": {},
   "outputs": [
    {
     "data": {
      "text/plain": [
       "(['sad', 'sad'], {'happy': 0.028800000000000006, 'sad': 0.12960000000000002})"
      ]
     },
     "execution_count": 9,
     "metadata": {},
     "output_type": "execute_result"
    }
   ],
   "source": [
    "HMM(initial_prob,transition_df,emission_df,observed_sequence)"
   ]
  },
  {
   "cell_type": "code",
   "execution_count": null,
   "metadata": {},
   "outputs": [],
   "source": []
  }
 ],
 "metadata": {
  "kernelspec": {
   "display_name": "Python 3",
   "language": "python",
   "name": "python3"
  },
  "language_info": {
   "codemirror_mode": {
    "name": "ipython",
    "version": 3
   },
   "file_extension": ".py",
   "mimetype": "text/x-python",
   "name": "python",
   "nbconvert_exporter": "python",
   "pygments_lexer": "ipython3",
   "version": "3.7.4"
  }
 },
 "nbformat": 4,
 "nbformat_minor": 2
}

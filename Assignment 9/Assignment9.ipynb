{
 "cells": [
  {
   "cell_type": "code",
   "execution_count": 1,
   "metadata": {
    "executionInfo": {
     "elapsed": 727,
     "status": "ok",
     "timestamp": 1642076533964,
     "user": {
      "displayName": "Akshaya Raja",
      "photoUrl": "https://lh3.googleusercontent.com/a-/AOh14Giok3G-WehIBU3Dsx7zwC4i__ymxELTUSPMJd8mDw=s64",
      "userId": "07560620191085869813"
     },
     "user_tz": -60
    },
    "id": "iewv9aqPYr4u"
   },
   "outputs": [],
   "source": [
    "from math import exp"
   ]
  },
  {
   "cell_type": "code",
   "execution_count": 2,
   "metadata": {
    "executionInfo": {
     "elapsed": 199,
     "status": "ok",
     "timestamp": 1642076696716,
     "user": {
      "displayName": "Akshaya Raja",
      "photoUrl": "https://lh3.googleusercontent.com/a-/AOh14Giok3G-WehIBU3Dsx7zwC4i__ymxELTUSPMJd8mDw=s64",
      "userId": "07560620191085869813"
     },
     "user_tz": -60
    },
    "id": "WPLFMnq_ZFCF"
   },
   "outputs": [],
   "source": [
    "def sig_activation(val):\n",
    "  return 1/(1+exp(-val)) "
   ]
  },
  {
   "cell_type": "code",
   "execution_count": null,
   "metadata": {
    "id": "lz06nb85z_dr"
   },
   "outputs": [],
   "source": []
  },
  {
   "cell_type": "code",
   "execution_count": 10,
   "metadata": {
    "executionInfo": {
     "elapsed": 256,
     "status": "ok",
     "timestamp": 1642082617913,
     "user": {
      "displayName": "Akshaya Raja",
      "photoUrl": "https://lh3.googleusercontent.com/a-/AOh14Giok3G-WehIBU3Dsx7zwC4i__ymxELTUSPMJd8mDw=s64",
      "userId": "07560620191085869813"
     },
     "user_tz": -60
    },
    "id": "H2YIXpi9Y0yF"
   },
   "outputs": [],
   "source": [
    " def feed_forward(neural_net,initial_input, bias):\n",
    "   input = initial_input\n",
    "   for layers in neural_net:      # looping through multiple layers of the network\n",
    "     conn_input=[]\n",
    "\n",
    "     for layer in layers:\n",
    "       net_input=0\n",
    "       weight_list = layer['Weight']\n",
    "\n",
    "       #calculating net input\n",
    "       for i in range(len(layer['Weight'])-1):\n",
    "         net_input+=weight_list[i] * input[i] + bias\n",
    "       \n",
    "       #calling activation function\n",
    "       output=sig_activation(net_input)\n",
    "\n",
    "       conn_input.append(output)\n",
    "       layer['Output'] = output\n",
    "\n",
    "     input=conn_input  # this becomes the input of the next layer or the final outcome\n",
    "\n",
    "   return input"
   ]
  },
  {
   "cell_type": "code",
   "execution_count": 16,
   "metadata": {
    "executionInfo": {
     "elapsed": 399,
     "status": "ok",
     "timestamp": 1642082862094,
     "user": {
      "displayName": "Akshaya Raja",
      "photoUrl": "https://lh3.googleusercontent.com/a-/AOh14Giok3G-WehIBU3Dsx7zwC4i__ymxELTUSPMJd8mDw=s64",
      "userId": "07560620191085869813"
     },
     "user_tz": -60
    },
    "id": "X-s7wqlhZKY6"
   },
   "outputs": [],
   "source": [
    "def call_output():\n",
    "  neural_network = [[{'Weight': [0.5,0.2,0.3]}], [{'Weight': [0.4,0.33]}, {'Weight': [0.2,0.5]}]]\n",
    "  input=[0,0.4,0.3]\n",
    "  bias = 0.23\n",
    "  output = feed_forward(neural_network, input, bias)\n",
    "  print(output)"
   ]
  },
  {
   "cell_type": "code",
   "execution_count": 18,
   "metadata": {
    "colab": {
     "base_uri": "https://localhost:8080/"
    },
    "executionInfo": {
     "elapsed": 203,
     "status": "ok",
     "timestamp": 1642083844935,
     "user": {
      "displayName": "Akshaya Raja",
      "photoUrl": "https://lh3.googleusercontent.com/a-/AOh14Giok3G-WehIBU3Dsx7zwC4i__ymxELTUSPMJd8mDw=s64",
      "userId": "07560620191085869813"
     },
     "user_tz": -60
    },
    "id": "Rd8cRvg4wFoF",
    "outputId": "bae12ca4-b417-4d0f-96a8-a293db8df5db"
   },
   "outputs": [
    {
     "name": "stdout",
     "output_type": "stream",
     "text": [
      "[0.6183911292755063, 0.5881596095838665]\n"
     ]
    }
   ],
   "source": [
    "call_output()"
   ]
  }
 ],
 "metadata": {
  "colab": {
   "authorship_tag": "ABX9TyP0omksvuJVaC+jHHwCtI8A",
   "collapsed_sections": [],
   "name": "ForwardPass.ipynb",
   "provenance": []
  },
  "kernelspec": {
   "display_name": "Python 3",
   "language": "python",
   "name": "python3"
  },
  "language_info": {
   "codemirror_mode": {
    "name": "ipython",
    "version": 3
   },
   "file_extension": ".py",
   "mimetype": "text/x-python",
   "name": "python",
   "nbconvert_exporter": "python",
   "pygments_lexer": "ipython3",
   "version": "3.8.5"
  }
 },
 "nbformat": 4,
 "nbformat_minor": 1
}
